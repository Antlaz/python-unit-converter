{
 "cells": [
  {
   "cell_type": "markdown",
   "id": "570c5b8a-c32a-4b75-a582-3e78674b1916",
   "metadata": {},
   "source": [
    "Unit of Measurement Converter"
   ]
  },
  {
   "cell_type": "code",
   "execution_count": 2,
   "id": "3b0c0afd-43cf-43a0-a296-6065add146c5",
   "metadata": {},
   "outputs": [
    {
     "name": "stdin",
     "output_type": "stream",
     "text": [
      "Enter starting unit of measurement (inches, feet, yard):  inches\n",
      "Enter unit of measurement to conver to  (inches, feet, yard):  yards\n",
      "Enter starting measurement in inches 24\n",
      "Enter starting measurement in feet 12\n",
      "Enter starting measurement in yards 12\n"
     ]
    }
   ],
   "source": [
    "#input() allows the user to input a value\n",
    "convert_from = input(\"Enter starting unit of measurement (inches, feet, yard): \")\n",
    "\n",
    "convert_to = input(\"Enter unit of measurement to conver to  (inches, feet, yard): \")\n",
    "\n",
    "number_of_inches = input(\"Enter starting measurement in inches\")\n",
    "\n",
    "number_of_feet = input(\"Enter starting measurement in feet\")\n",
    "\n",
    "number_of_yards = input(\"Enter starting measurement in yards\")\n",
    "\n"
   ]
  },
  {
   "cell_type": "code",
   "execution_count": 48,
   "id": "546b8045-efc3-4f20-afa7-29b8b62ca1b7",
   "metadata": {},
   "outputs": [
    {
     "name": "stdin",
     "output_type": "stream",
     "text": [
      "Enter starting unit of measurement (inches, feet, yards):  yards\n",
      "Enter unit of measurement to conver to  (inches, feet, yards):  feet\n",
      "Enter starting measurement in yards 45446\n"
     ]
    },
    {
     "name": "stdout",
     "output_type": "stream",
     "text": [
      "Result:  45446 yards =  136338 feet\n"
     ]
    }
   ],
   "source": [
    "convert_from = input(\"Enter starting unit of measurement (inches, feet, yards): \")\n",
    "\n",
    "convert_to = input(\"Enter unit of measurement to conver to  (inches, feet, yards): \")\n",
    "\n",
    "# we use .lowe() and a list to account for different formats entered by the user\n",
    "if convert_from.lower() in ['inches','in']:\n",
    "     #we have to change this to int() in order for the calculation to run\n",
    "    number_of_inches = int(input(\"Enter starting measurement in inches\"))\n",
    "    if convert_to.lower() in ['feet','foot','ft']:\n",
    "        print('Result: ', str(number_of_inches), 'inches = ', str(round(number_of_inches/12, 2)), 'feet')\n",
    "    elif convert_to.lower() in ['yards', 'yard', 'yd', 'yds']:\n",
    "        print('Result: ', str(number_of_inches), 'inches = ', str(round(number_of_inches/36, 2)), 'yards')\n",
    "    else:\n",
    "        print('Your input was invalid')\n",
    "        \n",
    "elif convert_from.lower() in ['feet','foot','ft']:\n",
    "     #we have to change this to int() in order for the calculation to run\n",
    "    number_of_feet = int(input(\"Enter starting measurement in Feet\"))\n",
    "    if convert_to.lower() in ['inches','in']:\n",
    "        print('Result: ', str(number_of_feet), 'feet = ', str(round(number_of_feet*12)), 'inches')\n",
    "    elif convert_to.lower() in ['yards', 'yard', 'yd', 'yds']:\n",
    "        print('Result: ', str(number_of_feet), 'feet = ', str(round(number_of_feet/3, 2)), 'yards')\n",
    "    else:\n",
    "        print('Your input was invalid')\n",
    "        \n",
    "elif convert_from.lower() in ['yards', 'yard', 'yd', 'yds']:\n",
    "     #we have to change this to int() in order for the calculation to run\n",
    "    number_of_yards = int(input(\"Enter starting measurement in yards\"))\n",
    "    if convert_to.lower() in ['inches','in']:\n",
    "        print('Result: ', str(number_of_yards), 'yards = ', str(round(number_of_yards * 36)), 'inches')\n",
    "    elif convert_to.lower() in ['feet','foot','ft']:\n",
    "        print('Result: ', str(number_of_yards), 'yards = ', str(round(number_of_yards * 3)), 'feet')\n",
    "    else:\n",
    "        print('Your input was invalid')\n",
    "else:\n",
    "    print('Your input was invalid')"
   ]
  },
  {
   "cell_type": "code",
   "execution_count": null,
   "id": "86d662af-5d76-4fb8-8937-151c8ea3f1d5",
   "metadata": {},
   "outputs": [],
   "source": []
  }
 ],
 "metadata": {
  "kernelspec": {
   "display_name": "Python [conda env:base] *",
   "language": "python",
   "name": "conda-base-py"
  },
  "language_info": {
   "codemirror_mode": {
    "name": "ipython",
    "version": 3
   },
   "file_extension": ".py",
   "mimetype": "text/x-python",
   "name": "python",
   "nbconvert_exporter": "python",
   "pygments_lexer": "ipython3",
   "version": "3.13.5"
  }
 },
 "nbformat": 4,
 "nbformat_minor": 5
}
